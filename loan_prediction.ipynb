{
 "cells": [
  {
   "cell_type": "markdown",
   "id": "23e7ce55",
   "metadata": {},
   "source": [
    "# Loan pridiction Dataset\n"
   ]
  },
  {
   "cell_type": "code",
   "execution_count": 1,
   "id": "ce8eaa44",
   "metadata": {},
   "outputs": [
    {
     "data": {
      "text/html": [
       "<div>\n",
       "<style scoped>\n",
       "    .dataframe tbody tr th:only-of-type {\n",
       "        vertical-align: middle;\n",
       "    }\n",
       "\n",
       "    .dataframe tbody tr th {\n",
       "        vertical-align: top;\n",
       "    }\n",
       "\n",
       "    .dataframe thead th {\n",
       "        text-align: right;\n",
       "    }\n",
       "</style>\n",
       "<table border=\"1\" class=\"dataframe\">\n",
       "  <thead>\n",
       "    <tr style=\"text-align: right;\">\n",
       "      <th></th>\n",
       "      <th>ID</th>\n",
       "      <th>Age</th>\n",
       "      <th>Experience</th>\n",
       "      <th>Income</th>\n",
       "      <th>ZIP Code</th>\n",
       "      <th>Family</th>\n",
       "      <th>CCAvg</th>\n",
       "      <th>Education</th>\n",
       "      <th>Mortgage</th>\n",
       "      <th>PersonalLoan</th>\n",
       "      <th>SecuritiesAccount</th>\n",
       "      <th>CDAccount</th>\n",
       "      <th>Online</th>\n",
       "      <th>CreditCard</th>\n",
       "    </tr>\n",
       "  </thead>\n",
       "  <tbody>\n",
       "    <tr>\n",
       "      <th>0</th>\n",
       "      <td>1</td>\n",
       "      <td>25</td>\n",
       "      <td>1</td>\n",
       "      <td>49</td>\n",
       "      <td>91107</td>\n",
       "      <td>4</td>\n",
       "      <td>1.6</td>\n",
       "      <td>1</td>\n",
       "      <td>0</td>\n",
       "      <td>0</td>\n",
       "      <td>1</td>\n",
       "      <td>0</td>\n",
       "      <td>0</td>\n",
       "      <td>0</td>\n",
       "    </tr>\n",
       "    <tr>\n",
       "      <th>1</th>\n",
       "      <td>2</td>\n",
       "      <td>45</td>\n",
       "      <td>19</td>\n",
       "      <td>34</td>\n",
       "      <td>90089</td>\n",
       "      <td>3</td>\n",
       "      <td>1.5</td>\n",
       "      <td>1</td>\n",
       "      <td>0</td>\n",
       "      <td>0</td>\n",
       "      <td>1</td>\n",
       "      <td>0</td>\n",
       "      <td>0</td>\n",
       "      <td>0</td>\n",
       "    </tr>\n",
       "    <tr>\n",
       "      <th>2</th>\n",
       "      <td>3</td>\n",
       "      <td>39</td>\n",
       "      <td>15</td>\n",
       "      <td>11</td>\n",
       "      <td>94720</td>\n",
       "      <td>1</td>\n",
       "      <td>1.0</td>\n",
       "      <td>1</td>\n",
       "      <td>0</td>\n",
       "      <td>0</td>\n",
       "      <td>0</td>\n",
       "      <td>0</td>\n",
       "      <td>0</td>\n",
       "      <td>0</td>\n",
       "    </tr>\n",
       "    <tr>\n",
       "      <th>3</th>\n",
       "      <td>4</td>\n",
       "      <td>35</td>\n",
       "      <td>9</td>\n",
       "      <td>100</td>\n",
       "      <td>94112</td>\n",
       "      <td>1</td>\n",
       "      <td>2.7</td>\n",
       "      <td>2</td>\n",
       "      <td>0</td>\n",
       "      <td>0</td>\n",
       "      <td>0</td>\n",
       "      <td>0</td>\n",
       "      <td>0</td>\n",
       "      <td>0</td>\n",
       "    </tr>\n",
       "    <tr>\n",
       "      <th>4</th>\n",
       "      <td>5</td>\n",
       "      <td>35</td>\n",
       "      <td>8</td>\n",
       "      <td>45</td>\n",
       "      <td>91330</td>\n",
       "      <td>4</td>\n",
       "      <td>1.0</td>\n",
       "      <td>2</td>\n",
       "      <td>0</td>\n",
       "      <td>0</td>\n",
       "      <td>0</td>\n",
       "      <td>0</td>\n",
       "      <td>0</td>\n",
       "      <td>1</td>\n",
       "    </tr>\n",
       "  </tbody>\n",
       "</table>\n",
       "</div>"
      ],
      "text/plain": [
       "   ID  Age  Experience  Income  ZIP Code  Family  CCAvg  Education  Mortgage  \\\n",
       "0   1   25           1      49     91107       4    1.6          1         0   \n",
       "1   2   45          19      34     90089       3    1.5          1         0   \n",
       "2   3   39          15      11     94720       1    1.0          1         0   \n",
       "3   4   35           9     100     94112       1    2.7          2         0   \n",
       "4   5   35           8      45     91330       4    1.0          2         0   \n",
       "\n",
       "   PersonalLoan  SecuritiesAccount  CDAccount  Online  CreditCard  \n",
       "0             0                  1          0       0           0  \n",
       "1             0                  1          0       0           0  \n",
       "2             0                  0          0       0           0  \n",
       "3             0                  0          0       0           0  \n",
       "4             0                  0          0       0           1  "
      ]
     },
     "execution_count": 1,
     "metadata": {},
     "output_type": "execute_result"
    }
   ],
   "source": [
    "import pandas as pd\n",
    "import matplotlib.pyplot as plt\n",
    "import seaborn as sns\n",
    "\n",
    "df = pd.read_csv(\"UniversalBank.csv\")\n",
    "df.head()"
   ]
  },
  {
   "cell_type": "markdown",
   "id": "c79eafa8",
   "metadata": {},
   "source": [
    "## Question 1: What are the number of missing values of the different attributes?"
   ]
  },
  {
   "cell_type": "code",
   "execution_count": 2,
   "id": "f925f22c",
   "metadata": {
    "scrolled": true
   },
   "outputs": [
    {
     "data": {
      "text/plain": [
       "ID                   0\n",
       "Age                  0\n",
       "Experience           0\n",
       "Income               0\n",
       "ZIP Code             0\n",
       "Family               0\n",
       "CCAvg                0\n",
       "Education            0\n",
       "Mortgage             0\n",
       "PersonalLoan         0\n",
       "SecuritiesAccount    0\n",
       "CDAccount            0\n",
       "Online               0\n",
       "CreditCard           0\n",
       "dtype: int64"
      ]
     },
     "execution_count": 2,
     "metadata": {},
     "output_type": "execute_result"
    }
   ],
   "source": [
    "df.isnull().sum(axis = 0)\n"
   ]
  },
  {
   "cell_type": "markdown",
   "id": "f09c9d2e",
   "metadata": {},
   "source": [
    "## Question 2: How could you handle missing values if they are present?\n"
   ]
  },
  {
   "cell_type": "markdown",
   "id": "afcc5100",
   "metadata": {},
   "source": [
    "if there were any missing values:<br>\n",
    "in case the column is numerical:<br>\n",
    "We could impute them by the mean/median of the related feature.<br>\n",
    "in case the column is categorical:<br>\n",
    "we replace the missing values with the most frequent value.<br>\n",
    "\n",
    "also we can use linear regression/linear classification to predict the missing values.\n",
    "or other machine learning algorithm-based imputers like KNNImputer to fill the missing values using the nearest neighbour algorithm.and Random Forest algorithm."
   ]
  },
  {
   "cell_type": "markdown",
   "id": "ced9d718",
   "metadata": {},
   "source": [
    "## Question 3: Are there extreme values of the independent attributes?"
   ]
  },
  {
   "cell_type": "code",
   "execution_count": 3,
   "id": "f3911dc7",
   "metadata": {},
   "outputs": [
    {
     "data": {
      "text/html": [
       "<div>\n",
       "<style scoped>\n",
       "    .dataframe tbody tr th:only-of-type {\n",
       "        vertical-align: middle;\n",
       "    }\n",
       "\n",
       "    .dataframe tbody tr th {\n",
       "        vertical-align: top;\n",
       "    }\n",
       "\n",
       "    .dataframe thead th {\n",
       "        text-align: right;\n",
       "    }\n",
       "</style>\n",
       "<table border=\"1\" class=\"dataframe\">\n",
       "  <thead>\n",
       "    <tr style=\"text-align: right;\">\n",
       "      <th></th>\n",
       "      <th>ID</th>\n",
       "      <th>Age</th>\n",
       "      <th>Experience</th>\n",
       "      <th>Income</th>\n",
       "      <th>ZIP Code</th>\n",
       "      <th>Family</th>\n",
       "      <th>CCAvg</th>\n",
       "      <th>Education</th>\n",
       "      <th>Mortgage</th>\n",
       "      <th>PersonalLoan</th>\n",
       "      <th>SecuritiesAccount</th>\n",
       "      <th>CDAccount</th>\n",
       "      <th>Online</th>\n",
       "      <th>CreditCard</th>\n",
       "    </tr>\n",
       "  </thead>\n",
       "  <tbody>\n",
       "    <tr>\n",
       "      <th>count</th>\n",
       "      <td>5000.000000</td>\n",
       "      <td>5000.000000</td>\n",
       "      <td>5000.000000</td>\n",
       "      <td>5000.000000</td>\n",
       "      <td>5000.000000</td>\n",
       "      <td>5000.000000</td>\n",
       "      <td>5000.000000</td>\n",
       "      <td>5000.000000</td>\n",
       "      <td>5000.000000</td>\n",
       "      <td>5000.000000</td>\n",
       "      <td>5000.000000</td>\n",
       "      <td>5000.00000</td>\n",
       "      <td>5000.000000</td>\n",
       "      <td>5000.000000</td>\n",
       "    </tr>\n",
       "    <tr>\n",
       "      <th>mean</th>\n",
       "      <td>2500.500000</td>\n",
       "      <td>45.338400</td>\n",
       "      <td>20.104600</td>\n",
       "      <td>73.774200</td>\n",
       "      <td>93152.503000</td>\n",
       "      <td>2.396400</td>\n",
       "      <td>1.937938</td>\n",
       "      <td>1.881000</td>\n",
       "      <td>56.498800</td>\n",
       "      <td>0.096000</td>\n",
       "      <td>0.104400</td>\n",
       "      <td>0.06040</td>\n",
       "      <td>0.596800</td>\n",
       "      <td>0.294000</td>\n",
       "    </tr>\n",
       "    <tr>\n",
       "      <th>std</th>\n",
       "      <td>1443.520003</td>\n",
       "      <td>11.463166</td>\n",
       "      <td>11.467954</td>\n",
       "      <td>46.033729</td>\n",
       "      <td>2121.852197</td>\n",
       "      <td>1.147663</td>\n",
       "      <td>1.747659</td>\n",
       "      <td>0.839869</td>\n",
       "      <td>101.713802</td>\n",
       "      <td>0.294621</td>\n",
       "      <td>0.305809</td>\n",
       "      <td>0.23825</td>\n",
       "      <td>0.490589</td>\n",
       "      <td>0.455637</td>\n",
       "    </tr>\n",
       "    <tr>\n",
       "      <th>min</th>\n",
       "      <td>1.000000</td>\n",
       "      <td>23.000000</td>\n",
       "      <td>-3.000000</td>\n",
       "      <td>8.000000</td>\n",
       "      <td>9307.000000</td>\n",
       "      <td>1.000000</td>\n",
       "      <td>0.000000</td>\n",
       "      <td>1.000000</td>\n",
       "      <td>0.000000</td>\n",
       "      <td>0.000000</td>\n",
       "      <td>0.000000</td>\n",
       "      <td>0.00000</td>\n",
       "      <td>0.000000</td>\n",
       "      <td>0.000000</td>\n",
       "    </tr>\n",
       "    <tr>\n",
       "      <th>25%</th>\n",
       "      <td>1250.750000</td>\n",
       "      <td>35.000000</td>\n",
       "      <td>10.000000</td>\n",
       "      <td>39.000000</td>\n",
       "      <td>91911.000000</td>\n",
       "      <td>1.000000</td>\n",
       "      <td>0.700000</td>\n",
       "      <td>1.000000</td>\n",
       "      <td>0.000000</td>\n",
       "      <td>0.000000</td>\n",
       "      <td>0.000000</td>\n",
       "      <td>0.00000</td>\n",
       "      <td>0.000000</td>\n",
       "      <td>0.000000</td>\n",
       "    </tr>\n",
       "    <tr>\n",
       "      <th>50%</th>\n",
       "      <td>2500.500000</td>\n",
       "      <td>45.000000</td>\n",
       "      <td>20.000000</td>\n",
       "      <td>64.000000</td>\n",
       "      <td>93437.000000</td>\n",
       "      <td>2.000000</td>\n",
       "      <td>1.500000</td>\n",
       "      <td>2.000000</td>\n",
       "      <td>0.000000</td>\n",
       "      <td>0.000000</td>\n",
       "      <td>0.000000</td>\n",
       "      <td>0.00000</td>\n",
       "      <td>1.000000</td>\n",
       "      <td>0.000000</td>\n",
       "    </tr>\n",
       "    <tr>\n",
       "      <th>75%</th>\n",
       "      <td>3750.250000</td>\n",
       "      <td>55.000000</td>\n",
       "      <td>30.000000</td>\n",
       "      <td>98.000000</td>\n",
       "      <td>94608.000000</td>\n",
       "      <td>3.000000</td>\n",
       "      <td>2.500000</td>\n",
       "      <td>3.000000</td>\n",
       "      <td>101.000000</td>\n",
       "      <td>0.000000</td>\n",
       "      <td>0.000000</td>\n",
       "      <td>0.00000</td>\n",
       "      <td>1.000000</td>\n",
       "      <td>1.000000</td>\n",
       "    </tr>\n",
       "    <tr>\n",
       "      <th>max</th>\n",
       "      <td>5000.000000</td>\n",
       "      <td>67.000000</td>\n",
       "      <td>43.000000</td>\n",
       "      <td>224.000000</td>\n",
       "      <td>96651.000000</td>\n",
       "      <td>4.000000</td>\n",
       "      <td>10.000000</td>\n",
       "      <td>3.000000</td>\n",
       "      <td>635.000000</td>\n",
       "      <td>1.000000</td>\n",
       "      <td>1.000000</td>\n",
       "      <td>1.00000</td>\n",
       "      <td>1.000000</td>\n",
       "      <td>1.000000</td>\n",
       "    </tr>\n",
       "  </tbody>\n",
       "</table>\n",
       "</div>"
      ],
      "text/plain": [
       "                ID          Age   Experience       Income      ZIP Code  \\\n",
       "count  5000.000000  5000.000000  5000.000000  5000.000000   5000.000000   \n",
       "mean   2500.500000    45.338400    20.104600    73.774200  93152.503000   \n",
       "std    1443.520003    11.463166    11.467954    46.033729   2121.852197   \n",
       "min       1.000000    23.000000    -3.000000     8.000000   9307.000000   \n",
       "25%    1250.750000    35.000000    10.000000    39.000000  91911.000000   \n",
       "50%    2500.500000    45.000000    20.000000    64.000000  93437.000000   \n",
       "75%    3750.250000    55.000000    30.000000    98.000000  94608.000000   \n",
       "max    5000.000000    67.000000    43.000000   224.000000  96651.000000   \n",
       "\n",
       "            Family        CCAvg    Education     Mortgage  PersonalLoan  \\\n",
       "count  5000.000000  5000.000000  5000.000000  5000.000000   5000.000000   \n",
       "mean      2.396400     1.937938     1.881000    56.498800      0.096000   \n",
       "std       1.147663     1.747659     0.839869   101.713802      0.294621   \n",
       "min       1.000000     0.000000     1.000000     0.000000      0.000000   \n",
       "25%       1.000000     0.700000     1.000000     0.000000      0.000000   \n",
       "50%       2.000000     1.500000     2.000000     0.000000      0.000000   \n",
       "75%       3.000000     2.500000     3.000000   101.000000      0.000000   \n",
       "max       4.000000    10.000000     3.000000   635.000000      1.000000   \n",
       "\n",
       "       SecuritiesAccount   CDAccount       Online   CreditCard  \n",
       "count        5000.000000  5000.00000  5000.000000  5000.000000  \n",
       "mean            0.104400     0.06040     0.596800     0.294000  \n",
       "std             0.305809     0.23825     0.490589     0.455637  \n",
       "min             0.000000     0.00000     0.000000     0.000000  \n",
       "25%             0.000000     0.00000     0.000000     0.000000  \n",
       "50%             0.000000     0.00000     1.000000     0.000000  \n",
       "75%             0.000000     0.00000     1.000000     1.000000  \n",
       "max             1.000000     1.00000     1.000000     1.000000  "
      ]
     },
     "execution_count": 3,
     "metadata": {},
     "output_type": "execute_result"
    }
   ],
   "source": [
    "df.describe()"
   ]
  },
  {
   "cell_type": "code",
   "execution_count": 4,
   "id": "9a062d3f",
   "metadata": {},
   "outputs": [],
   "source": [
    "def plot_violin_boxplot(data):\n",
    "    fig, axs = plt.subplots(nrows=1, ncols=2, figsize=(18,8 ))\n",
    "\n",
    "    # plot violin plot\n",
    "    axs[0].violinplot(data,\n",
    "                  showmeans=False,\n",
    "                  showmedians=True)\n",
    "    axs[0].set_title('violin plot')\n",
    "\n",
    "    # plot box plot\n",
    "    axs[1].boxplot(data)\n",
    "    axs[1].set_title('Box plot')\n",
    "\n",
    "    # adding horizontal grid lines\n",
    "    for ax in axs:\n",
    "        ax.yaxis.grid(True)\n",
    "   \n",
    "\n",
    "    plt.show()"
   ]
  },
  {
   "cell_type": "code",
   "execution_count": 5,
   "id": "b32afc2f",
   "metadata": {},
   "outputs": [
    {
     "data": {
      "image/png": "[encoded data removed]",
      "text/plain": [
       "<Figure size 1296x576 with 2 Axes>"
      ]
     },
     "metadata": {
      "needs_background": "light"
     },
     "output_type": "display_data"
    }
   ],
   "source": [
    "plot_violin_boxplot(df[[\"Mortgage\"]]) \n"
   ]
  },
  {
   "cell_type": "code",
   "execution_count": 6,
   "id": "ea12fe4d",
   "metadata": {},
   "outputs": [
    {
     "data": {
      "image/png": "[encoded data removed]",
      "text/plain": [
       "<Figure size 1296x576 with 2 Axes>"
      ]
     },
     "metadata": {
      "needs_background": "light"
     },
     "output_type": "display_data"
    }
   ],
   "source": [
    "plot_violin_boxplot(df[[\"Experience\",\"Income\"]]) \n"
   ]
  },
  {
   "cell_type": "code",
   "execution_count": 7,
   "id": "9221a6c3",
   "metadata": {},
   "outputs": [
    {
     "data": {
      "text/plain": [
       "Index(['ID', 'Age', 'Experience', 'Income', 'ZIP Code', 'Family', 'CCAvg',\n",
       "       'Education', 'Mortgage', 'PersonalLoan', 'SecuritiesAccount',\n",
       "       'CDAccount', 'Online', 'CreditCard'],\n",
       "      dtype='object')"
      ]
     },
     "execution_count": 7,
     "metadata": {},
     "output_type": "execute_result"
    }
   ],
   "source": [
    "df.columns"
   ]
  },
  {
   "cell_type": "code",
   "execution_count": 8,
   "id": "512b8af8",
   "metadata": {},
   "outputs": [
    {
     "data": {
      "image/png": "[encoded data removed]",
      "text/plain": [
       "<Figure size 1296x576 with 2 Axes>"
      ]
     },
     "metadata": {
      "needs_background": "light"
     },
     "output_type": "display_data"
    }
   ],
   "source": [
    "plot_violin_boxplot(df[[\"Family\", \"CCAvg\", \"Education\"]]) \n"
   ]
  },
  {
   "cell_type": "code",
   "execution_count": 9,
   "id": "1ebe576b",
   "metadata": {},
   "outputs": [
    {
     "data": {
      "image/png": "[encoded data removed]",
      "text/plain": [
       "<Figure size 1296x576 with 2 Axes>"
      ]
     },
     "metadata": {
      "needs_background": "light"
     },
     "output_type": "display_data"
    }
   ],
   "source": [
    "plot_violin_boxplot(df[[\"Age\"]]) \n"
   ]
  },
  {
   "cell_type": "markdown",
   "id": "c783dfb6",
   "metadata": {},
   "source": [
    "Based on df.describe,the violin plot and boxplot, we notice:<br>\n",
    "\n",
    "-the maximum of the **income, Mortgage, CCAvg** features are very far from their mean values<br>\n",
    "-Mortgage,\tSecuritiesAccount,\tCDAccount,\tOnline,\tCreditCard are **binary variables**<br>\n",
    "-Family and Education are **Label Encoded**<br>"
   ]
  },
  {
   "cell_type": "markdown",
   "id": "6c4565ef",
   "metadata": {},
   "source": [
    "Min of column **Experience** is negative, which is illogical<br>\n",
    "Min of column **Income** is 8000 , we need to verify this, it's unlikely to live off with 8000$ of an annual income, we need to check the zipcode. and verify if you can live with that amount of money in that place. "
   ]
  },
  {
   "cell_type": "markdown",
   "id": "52a67c6c",
   "metadata": {},
   "source": [
    "## Question 4:  How could you handle extreme values if they are present?\n",
    "-We can drop the outliers<br>\n",
    "-We can set up a filter ( like in the case of the negative income feature)<br>\n",
    "-We can handle outliers using IQR method ( IQR = Q3-Q1)<br>"
   ]
  },
  {
   "cell_type": "markdown",
   "id": "b3dbd7ec",
   "metadata": {},
   "source": [
    "### Question 5:  Compute the mean, standard deviation and quartiles of the incomes of the two groups (customers who accepted and not the loan). Interpret.\n"
   ]
  },
  {
   "cell_type": "code",
   "execution_count": 10,
   "id": "0093e683",
   "metadata": {},
   "outputs": [
    {
     "name": "stdout",
     "output_type": "stream",
     "text": [
      "customers who did not accept the loan\n",
      "count    4520.000000\n",
      "mean       66.237389\n",
      "std        40.578534\n",
      "min         8.000000\n",
      "25%        35.000000\n",
      "50%        59.000000\n",
      "75%        84.000000\n",
      "max       224.000000\n",
      "Name: Income, dtype: float64\n",
      "customers who did accept the loan\n",
      "count    480.000000\n",
      "mean     144.745833\n",
      "std       31.584429\n",
      "min       60.000000\n",
      "25%      122.000000\n",
      "50%      142.500000\n",
      "75%      172.000000\n",
      "max      203.000000\n",
      "Name: Income, dtype: float64\n"
     ]
    }
   ],
   "source": [
    "group_1 = df[df[\"PersonalLoan\"]==0].describe()\n",
    "group_2 = df[df[\"PersonalLoan\"]==1].describe()\n",
    "print(\"customers who did not accept the loan\")\n",
    "print(group_1[\"Income\"])\n",
    "print(\"customers who did accept the loan\")\n",
    "print(group_2[\"Income\"])\n"
   ]
  },
  {
   "cell_type": "markdown",
   "id": "5a206af0",
   "metadata": {},
   "source": [
    "### Question 6: Produce the scatter diagram of Age * Experience. Highlight the two groups (customers who accepted and not the loan). Interpret. (Hint. Use any descriptive measure to motivate your answer)."
   ]
  },
  {
   "cell_type": "code",
   "execution_count": 11,
   "id": "ecad5458",
   "metadata": {},
   "outputs": [
    {
     "data": {
      "image/png": "[encoded data removed]",
      "text/plain": [
       "<Figure size 434.375x360 with 1 Axes>"
      ]
     },
     "metadata": {
      "needs_background": "light"
     },
     "output_type": "display_data"
    }
   ],
   "source": [
    "color_dict = dict({1:'blue',\n",
    "                  0:'red'})\n",
    "g = sns.lmplot(x=\"Experience\", y=\"Age\", hue=\"PersonalLoan\",\n",
    "              data=df, palette=color_dict, \n",
    "                   legend='full', markers=[\"o\", \"x\"])\n"
   ]
  },
  {
   "cell_type": "markdown",
   "id": "e9a81254",
   "metadata": {},
   "source": [
    "Age is Highly correlated with Experience"
   ]
  },
  {
   "cell_type": "code",
   "execution_count": 12,
   "id": "f2390f5a",
   "metadata": {},
   "outputs": [
    {
     "data": {
      "text/html": [
       "<div>\n",
       "<style scoped>\n",
       "    .dataframe tbody tr th:only-of-type {\n",
       "        vertical-align: middle;\n",
       "    }\n",
       "\n",
       "    .dataframe tbody tr th {\n",
       "        vertical-align: top;\n",
       "    }\n",
       "\n",
       "    .dataframe thead th {\n",
       "        text-align: right;\n",
       "    }\n",
       "</style>\n",
       "<table border=\"1\" class=\"dataframe\">\n",
       "  <thead>\n",
       "    <tr style=\"text-align: right;\">\n",
       "      <th></th>\n",
       "      <th>Age</th>\n",
       "      <th>Experience</th>\n",
       "    </tr>\n",
       "  </thead>\n",
       "  <tbody>\n",
       "    <tr>\n",
       "      <th>Age</th>\n",
       "      <td>1.000000</td>\n",
       "      <td>0.994215</td>\n",
       "    </tr>\n",
       "    <tr>\n",
       "      <th>Experience</th>\n",
       "      <td>0.994215</td>\n",
       "      <td>1.000000</td>\n",
       "    </tr>\n",
       "  </tbody>\n",
       "</table>\n",
       "</div>"
      ],
      "text/plain": [
       "                 Age  Experience\n",
       "Age         1.000000    0.994215\n",
       "Experience  0.994215    1.000000"
      ]
     },
     "execution_count": 12,
     "metadata": {},
     "output_type": "execute_result"
    }
   ],
   "source": [
    "df[[\"Age\",\"Experience\"]].corr(method ='pearson')"
   ]
  },
  {
   "cell_type": "markdown",
   "id": "8dc8a1e9",
   "metadata": {},
   "source": [
    "### Question 7:  Describe the relationship between ‘Education’ and ‘Personal loan’"
   ]
  },
  {
   "cell_type": "code",
   "execution_count": 13,
   "id": "ad95868f",
   "metadata": {},
   "outputs": [
    {
     "name": "stdout",
     "output_type": "stream",
     "text": [
      "Spearman's correlation: \n",
      "              Education  PersonalLoan\n",
      "Education      1.000000      0.139492\n",
      "PersonalLoan   0.139492      1.000000\n",
      "\n",
      "Pearson's correlation: \n",
      "              Education  PersonalLoan\n",
      "Education      1.000000      0.136722\n",
      "PersonalLoan   0.136722      1.000000\n"
     ]
    }
   ],
   "source": [
    "spearman_corr = df[[\"Education\",\"PersonalLoan\"]].corr(method= \"spearman\")\n",
    "pearson_corr =  df[[\"Education\",\"PersonalLoan\"]].corr()\n",
    "print(\"Spearman's correlation: \")\n",
    "print(spearman_corr)\n",
    "\n",
    "print(\"\\nPearson's correlation: \")\n",
    "print(pearson_corr)"
   ]
  },
  {
   "cell_type": "markdown",
   "id": "12a5c78e",
   "metadata": {},
   "source": [
    "###  Question8: How could you consider the variable education in your analysis?"
   ]
  },
  {
   "cell_type": "markdown",
   "id": "4baa424f",
   "metadata": {},
   "source": [
    "the pearson/spearman correlation between Education and PersonalLoan is very low. We could check for non linear correlation using mutual information, and see if the scoring of p-value. "
   ]
  },
  {
   "cell_type": "markdown",
   "id": "f21898d8",
   "metadata": {},
   "source": [
    "## Part II"
   ]
  },
  {
   "cell_type": "markdown",
   "id": "5824502b",
   "metadata": {},
   "source": [
    " ### Question 10: Handle the categorical variables"
   ]
  },
  {
   "cell_type": "code",
   "execution_count": 14,
   "id": "eb5d2e29",
   "metadata": {},
   "outputs": [],
   "source": [
    "## Convert Categorical Columns to Dummies\n",
    "categorical_cols = [\"Family\",\"SecuritiesAccount\",\"CDAccount\",\"Online\",\"CreditCard\"]\n",
    "data = pd.get_dummies(df,columns=categorical_cols,drop_first=True,)"
   ]
  },
  {
   "cell_type": "code",
   "execution_count": 15,
   "id": "98462037",
   "metadata": {},
   "outputs": [
    {
     "data": {
      "text/plain": [
       "Index(['Age', 'Experience', 'Income', 'CCAvg', 'Mortgage', 'PersonalLoan',\n",
       "       'Family_2', 'Family_3', 'Family_4', 'SecuritiesAccount_1',\n",
       "       'CDAccount_1', 'Online_1', 'CreditCard_1'],\n",
       "      dtype='object')"
      ]
     },
     "execution_count": 15,
     "metadata": {},
     "output_type": "execute_result"
    }
   ],
   "source": [
    "drop_cols=['ID',\"ZIP Code\",\"Education\"]\n",
    "for col in drop_cols:\n",
    "    data.drop([col],axis=1,inplace=True)\n",
    "\n",
    "data.columns"
   ]
  },
  {
   "cell_type": "markdown",
   "id": "8eba8816",
   "metadata": {},
   "source": [
    " ### Question 9: Form a training (60%) and test samples (40%). "
   ]
  },
  {
   "cell_type": "code",
   "execution_count": 16,
   "id": "3464c3b5",
   "metadata": {},
   "outputs": [
    {
     "name": "stdout",
     "output_type": "stream",
     "text": [
      "(3000, 12)\n",
      "(2000, 12)\n",
      "(3000,)\n",
      "(2000,)\n"
     ]
    }
   ],
   "source": [
    "from sklearn.model_selection import train_test_split\n",
    "\n",
    "y = data[\"PersonalLoan\"]\n",
    "X = data.copy().drop(\"PersonalLoan\",axis=1)\n",
    "\n",
    "## Split the data into trainx, testx, trainy, testy with test_size = 0.20 using sklearn\n",
    "trainx, testx, trainy, testy = train_test_split(X, y, test_size=0.40)\n",
    "\n",
    "## Print the shape of X_train, X_test, y_train, y_test\n",
    "print(trainx.shape)\n",
    "print(testx.shape)\n",
    "print(trainy.shape)\n",
    "print(testy.shape)"
   ]
  },
  {
   "cell_type": "code",
   "execution_count": 17,
   "id": "2cb249dd",
   "metadata": {},
   "outputs": [
    {
     "name": "stderr",
     "output_type": "stream",
     "text": [
      "C:\\Users\\medsa\\Anaconda3\\envs\\zindi\\lib\\site-packages\\pandas\\core\\indexing.py:1738: SettingWithCopyWarning: \n",
      "A value is trying to be set on a copy of a slice from a DataFrame.\n",
      "Try using .loc[row_indexer,col_indexer] = value instead\n",
      "\n",
      "See the caveats in the documentation: https://pandas.pydata.org/pandas-docs/stable/user_guide/indexing.html#returning-a-view-versus-a-copy\n",
      "  self._setitem_single_column(loc, value[:, i].tolist(), pi)\n",
      "C:\\Users\\medsa\\Anaconda3\\envs\\zindi\\lib\\site-packages\\pandas\\core\\indexing.py:1738: SettingWithCopyWarning: \n",
      "A value is trying to be set on a copy of a slice from a DataFrame.\n",
      "Try using .loc[row_indexer,col_indexer] = value instead\n",
      "\n",
      "See the caveats in the documentation: https://pandas.pydata.org/pandas-docs/stable/user_guide/indexing.html#returning-a-view-versus-a-copy\n",
      "  self._setitem_single_column(loc, value[:, i].tolist(), pi)\n"
     ]
    }
   ],
   "source": [
    "from sklearn.preprocessing import  StandardScaler, RobustScaler\n",
    "# x= (x-Xmed) / x75-XT25 \n",
    "## Scale the numeric attributes\n",
    "scaler = RobustScaler()\n",
    "scaler.fit(trainx.iloc[:,:5])\n",
    "\n",
    "trainx.iloc[:,:5] = scaler.transform(trainx.iloc[:,:5])\n",
    "testx.iloc[:,:5] = scaler.transform(testx.iloc[:,:5])"
   ]
  },
  {
   "cell_type": "code",
   "execution_count": 18,
   "id": "8fca0102",
   "metadata": {
    "scrolled": true
   },
   "outputs": [
    {
     "data": {
      "text/html": [
       "<div>\n",
       "<style scoped>\n",
       "    .dataframe tbody tr th:only-of-type {\n",
       "        vertical-align: middle;\n",
       "    }\n",
       "\n",
       "    .dataframe tbody tr th {\n",
       "        vertical-align: top;\n",
       "    }\n",
       "\n",
       "    .dataframe thead th {\n",
       "        text-align: right;\n",
       "    }\n",
       "</style>\n",
       "<table border=\"1\" class=\"dataframe\">\n",
       "  <thead>\n",
       "    <tr style=\"text-align: right;\">\n",
       "      <th></th>\n",
       "      <th>Age</th>\n",
       "      <th>Experience</th>\n",
       "      <th>Income</th>\n",
       "      <th>CCAvg</th>\n",
       "      <th>Mortgage</th>\n",
       "      <th>Family_2</th>\n",
       "      <th>Family_3</th>\n",
       "      <th>Family_4</th>\n",
       "      <th>SecuritiesAccount_1</th>\n",
       "      <th>CDAccount_1</th>\n",
       "      <th>Online_1</th>\n",
       "      <th>CreditCard_1</th>\n",
       "    </tr>\n",
       "  </thead>\n",
       "  <tbody>\n",
       "    <tr>\n",
       "      <th>585</th>\n",
       "      <td>-0.55</td>\n",
       "      <td>-0.80</td>\n",
       "      <td>0.306452</td>\n",
       "      <td>1.315789</td>\n",
       "      <td>0.00</td>\n",
       "      <td>0</td>\n",
       "      <td>0</td>\n",
       "      <td>1</td>\n",
       "      <td>0</td>\n",
       "      <td>0</td>\n",
       "      <td>1</td>\n",
       "      <td>0</td>\n",
       "    </tr>\n",
       "    <tr>\n",
       "      <th>2419</th>\n",
       "      <td>0.90</td>\n",
       "      <td>0.85</td>\n",
       "      <td>-0.322581</td>\n",
       "      <td>-0.263158</td>\n",
       "      <td>0.00</td>\n",
       "      <td>1</td>\n",
       "      <td>0</td>\n",
       "      <td>0</td>\n",
       "      <td>0</td>\n",
       "      <td>0</td>\n",
       "      <td>1</td>\n",
       "      <td>0</td>\n",
       "    </tr>\n",
       "    <tr>\n",
       "      <th>3452</th>\n",
       "      <td>0.80</td>\n",
       "      <td>0.85</td>\n",
       "      <td>-0.661290</td>\n",
       "      <td>-0.578947</td>\n",
       "      <td>0.00</td>\n",
       "      <td>0</td>\n",
       "      <td>1</td>\n",
       "      <td>0</td>\n",
       "      <td>0</td>\n",
       "      <td>0</td>\n",
       "      <td>0</td>\n",
       "      <td>0</td>\n",
       "    </tr>\n",
       "    <tr>\n",
       "      <th>250</th>\n",
       "      <td>-0.75</td>\n",
       "      <td>-0.70</td>\n",
       "      <td>-0.564516</td>\n",
       "      <td>-0.263158</td>\n",
       "      <td>1.17</td>\n",
       "      <td>0</td>\n",
       "      <td>1</td>\n",
       "      <td>0</td>\n",
       "      <td>0</td>\n",
       "      <td>0</td>\n",
       "      <td>0</td>\n",
       "      <td>0</td>\n",
       "    </tr>\n",
       "    <tr>\n",
       "      <th>2096</th>\n",
       "      <td>0.50</td>\n",
       "      <td>0.45</td>\n",
       "      <td>-0.161290</td>\n",
       "      <td>0.421053</td>\n",
       "      <td>0.93</td>\n",
       "      <td>1</td>\n",
       "      <td>0</td>\n",
       "      <td>0</td>\n",
       "      <td>0</td>\n",
       "      <td>0</td>\n",
       "      <td>0</td>\n",
       "      <td>0</td>\n",
       "    </tr>\n",
       "  </tbody>\n",
       "</table>\n",
       "</div>"
      ],
      "text/plain": [
       "       Age  Experience    Income     CCAvg  Mortgage  Family_2  Family_3  \\\n",
       "585  -0.55       -0.80  0.306452  1.315789      0.00         0         0   \n",
       "2419  0.90        0.85 -0.322581 -0.263158      0.00         1         0   \n",
       "3452  0.80        0.85 -0.661290 -0.578947      0.00         0         1   \n",
       "250  -0.75       -0.70 -0.564516 -0.263158      1.17         0         1   \n",
       "2096  0.50        0.45 -0.161290  0.421053      0.93         1         0   \n",
       "\n",
       "      Family_4  SecuritiesAccount_1  CDAccount_1  Online_1  CreditCard_1  \n",
       "585          1                    0            0         1             0  \n",
       "2419         0                    0            0         1             0  \n",
       "3452         0                    0            0         0             0  \n",
       "250          0                    0            0         0             0  \n",
       "2096         0                    0            0         0             0  "
      ]
     },
     "execution_count": 18,
     "metadata": {},
     "output_type": "execute_result"
    }
   ],
   "source": [
    "trainx.head()"
   ]
  },
  {
   "cell_type": "markdown",
   "id": "fb5c339c",
   "metadata": {},
   "source": [
    "### Question 11: Construct two classifiers using logistic regression and support vector machines (SVM) and produce the respective confusion matrices. Interpret.\n"
   ]
  },
  {
   "cell_type": "markdown",
   "id": "c995952b",
   "metadata": {},
   "source": [
    "#### Logistic Regression Model"
   ]
  },
  {
   "cell_type": "code",
   "execution_count": 19,
   "id": "4e4c62e9",
   "metadata": {},
   "outputs": [],
   "source": [
    "from sklearn.linear_model import LogisticRegression\n",
    "from sklearn.metrics import accuracy_score \n",
    "from sklearn.metrics import classification_report\n",
    "\n",
    "model = LogisticRegression()\n",
    "model.fit(trainx , trainy)\n",
    "ypred = model.predict(testx)\n"
   ]
  },
  {
   "cell_type": "code",
   "execution_count": 20,
   "id": "9c88b7ed",
   "metadata": {},
   "outputs": [
    {
     "name": "stdout",
     "output_type": "stream",
     "text": [
      "0.9445\n",
      "              precision    recall  f1-score   support\n",
      "\n",
      "           0       0.96      0.98      0.97      1824\n",
      "           1       0.76      0.53      0.63       176\n",
      "\n",
      "    accuracy                           0.94      2000\n",
      "   macro avg       0.86      0.76      0.80      2000\n",
      "weighted avg       0.94      0.94      0.94      2000\n",
      "\n"
     ]
    }
   ],
   "source": [
    "accuracy = accuracy_score(testy,ypred)\n",
    "print(accuracy)\n",
    "\n",
    "print(classification_report(testy, ypred))"
   ]
  },
  {
   "cell_type": "markdown",
   "id": "e14758bc",
   "metadata": {},
   "source": [
    "**Interpretation:** <br>\n",
    "We can see that our model is performing badly in predicting the 1 class.\n",
    "this is due to the fact that our data set is unbalanced.\n",
    "We call this kind of models a dummy model, where in our case it always predicts 0 and reachs accuracy of : count(0 class)/(count(0 class)+ count(1 class))"
   ]
  },
  {
   "cell_type": "code",
   "execution_count": 21,
   "id": "27b850d8",
   "metadata": {},
   "outputs": [
    {
     "data": {
      "text/plain": [
       "0.904"
      ]
     },
     "execution_count": 21,
     "metadata": {},
     "output_type": "execute_result"
    }
   ],
   "source": [
    "y.value_counts()[0]/(y.value_counts()[0]+y.value_counts()[1])"
   ]
  },
  {
   "cell_type": "markdown",
   "id": "3aba92ce",
   "metadata": {},
   "source": [
    "#### SVM Model"
   ]
  },
  {
   "cell_type": "code",
   "execution_count": 22,
   "id": "7e8a6d01",
   "metadata": {},
   "outputs": [
    {
     "name": "stdout",
     "output_type": "stream",
     "text": [
      "0.9505\n",
      "              precision    recall  f1-score   support\n",
      "\n",
      "           0       0.95      1.00      0.97      1824\n",
      "           1       0.93      0.47      0.63       176\n",
      "\n",
      "    accuracy                           0.95      2000\n",
      "   macro avg       0.94      0.73      0.80      2000\n",
      "weighted avg       0.95      0.95      0.94      2000\n",
      "\n"
     ]
    }
   ],
   "source": [
    "from sklearn.svm import SVC\n",
    "svm=SVC(kernel='rbf')\n",
    "svm.fit(trainx,trainy)\n",
    "y_pred_svm=svm.predict(testx)\n",
    "\n",
    "accuracy_svm = accuracy_score(testy,y_pred_svm)\n",
    "print(accuracy_svm)\n",
    "\n",
    "print(classification_report(testy,y_pred_svm))"
   ]
  },
  {
   "cell_type": "markdown",
   "id": "9d11402d",
   "metadata": {},
   "source": [
    "the svm model has improved the precision"
   ]
  },
  {
   "cell_type": "markdown",
   "id": "a79cd184",
   "metadata": {},
   "source": [
    "##### Grid Search using SVM model"
   ]
  },
  {
   "cell_type": "code",
   "execution_count": 23,
   "id": "426cabca",
   "metadata": {},
   "outputs": [
    {
     "name": "stdout",
     "output_type": "stream",
     "text": [
      "0.9493333333333333 {'C': 10, 'gamma': 0.1, 'kernel': 'rbf'}\n"
     ]
    }
   ],
   "source": [
    "from sklearn.model_selection import GridSearchCV\n",
    "\n",
    "svc_grid = SVC()\n",
    " \n",
    "\n",
    "param_grid = {\n",
    "\n",
    "'C': [0.001, 0.01, 0.1, 1, 10],\n",
    "'gamma': [0.001, 0.01, 0.1, 1], \n",
    "'kernel':['linear','rbf']}\n",
    "\n",
    " \n",
    "svc_cv_grid = GridSearchCV(estimator = svc_grid, param_grid = param_grid, cv = 10)\n",
    "svc_cv_grid.fit(X = trainx, y = trainy)\n",
    "print(svc_cv_grid.best_score_,svc_cv_grid.best_params_)"
   ]
  },
  {
   "cell_type": "code",
   "execution_count": 24,
   "id": "ab1d8d8e",
   "metadata": {
    "scrolled": true
   },
   "outputs": [
    {
     "name": "stdout",
     "output_type": "stream",
     "text": [
      "              precision    recall  f1-score   support\n",
      "\n",
      "           0       0.96      1.00      0.98      1824\n",
      "           1       0.93      0.53      0.67       176\n",
      "\n",
      "    accuracy                           0.95      2000\n",
      "   macro avg       0.94      0.76      0.82      2000\n",
      "weighted avg       0.95      0.95      0.95      2000\n",
      "\n"
     ]
    }
   ],
   "source": [
    "best_svc = svc_cv_grid.best_estimator_\n",
    "pred_test_svc = best_svc.predict(testx)\n",
    "print(classification_report(testy,pred_test_svc))"
   ]
  },
  {
   "cell_type": "markdown",
   "id": "4e0a7f44",
   "metadata": {},
   "source": [
    "**Interpretation:**<br>\n",
    "grid searching svm helped us improve the precision and recall on the 1-class. the parameters helped our model generalize more."
   ]
  },
  {
   "cell_type": "markdown",
   "id": "f8a7dfa5",
   "metadata": {},
   "source": [
    "### Question 12: How SVM is used for classification?"
   ]
  },
  {
   "cell_type": "markdown",
   "id": "2fa9c1e9",
   "metadata": {},
   "source": [
    "SVM uses a kernel to transform your data and then we perform classification by finding an optimal boundary (hyperplan) to differentiate the two classes.\n",
    "the kernal function takes low dimensional input space and transforms it to a higher dimensional space. it converts not separable problem to separable problem. It is mostly useful in non-linear separation problem."
   ]
  },
  {
   "cell_type": "markdown",
   "id": "56f7ec83",
   "metadata": {},
   "source": [
    "### Question 13: Use ensemble methods to construct classifiers (bagging and boosting) and produce the confusion matrices. Interpret."
   ]
  },
  {
   "cell_type": "code",
   "execution_count": 27,
   "id": "08a6c5bc",
   "metadata": {},
   "outputs": [],
   "source": [
    "from sklearn import metrics\n",
    "def results(y_pred,testy,model_str):\n",
    "    print('The accuracy for '+model_str+' is:',metrics.accuracy_score(y_pred,testy))\n",
    "   \n",
    "    fpr,tpr,th=metrics.roc_curve(testy,y_pred)\n",
    "    auc=metrics.auc(fpr,tpr)\n",
    "    \n",
    "    plt.plot(fpr,tpr,label=model_str+\"  :AUC=%.2f\"%auc)    \n",
    "    plt.xlabel (\"FPR\")\n",
    "    plt.ylabel(\"TPR\")\n",
    "\n",
    "    plt.legend(loc=\"lower right\")\n",
    "    \n",
    "    plt.plot(fpr,tpr,label=model_str+\"   :AUC=%.2f\"%auc)\n",
    "    print(classification_report(testy,y_pred))"
   ]
  },
  {
   "cell_type": "markdown",
   "id": "c88b4d36",
   "metadata": {},
   "source": [
    "### Bagging Decision trees"
   ]
  },
  {
   "cell_type": "code",
   "execution_count": 28,
   "id": "b310dd67",
   "metadata": {},
   "outputs": [
    {
     "name": "stdout",
     "output_type": "stream",
     "text": [
      "The accuracy for Bagging decision tree is: 0.9595\n",
      "              precision    recall  f1-score   support\n",
      "\n",
      "           0       0.97      0.99      0.98      1824\n",
      "           1       0.85      0.65      0.74       176\n",
      "\n",
      "    accuracy                           0.96      2000\n",
      "   macro avg       0.91      0.82      0.86      2000\n",
      "weighted avg       0.96      0.96      0.96      2000\n",
      "\n"
     ]
    },
    {
     "data": {
      "image/png": "[encoded data removed]",
      "text/plain": [
       "<Figure size 432x288 with 1 Axes>"
      ]
     },
     "metadata": {
      "needs_background": "light"
     },
     "output_type": "display_data"
    }
   ],
   "source": [
    "from sklearn.ensemble import BaggingClassifier\n",
    "from sklearn.tree import DecisionTreeClassifier\n",
    "\n",
    "tree = DecisionTreeClassifier()\n",
    "bagging_clf = BaggingClassifier(base_estimator=tree, n_estimators=1500, random_state=42)\n",
    "bagging_clf.fit(trainx,trainy)\n",
    "\n",
    "y_pred_bdt_clf=bagging_clf.predict(testx)\n",
    "results(y_pred_bdt_clf,testy, \"Bagging decision tree\")"
   ]
  },
  {
   "cell_type": "markdown",
   "id": "11f68c88",
   "metadata": {},
   "source": [
    "**interpretation:**<br> As  we can see bagging decision trees performed much better than the previous models. the precision and recall for class-1 has improved."
   ]
  },
  {
   "cell_type": "markdown",
   "id": "7eb0346c",
   "metadata": {},
   "source": [
    "### XGboost Model"
   ]
  },
  {
   "cell_type": "code",
   "execution_count": 29,
   "id": "4259a8b4",
   "metadata": {},
   "outputs": [
    {
     "data": {
      "text/plain": [
       "0    4520\n",
       "1     480\n",
       "Name: PersonalLoan, dtype: int64"
      ]
     },
     "execution_count": 29,
     "metadata": {},
     "output_type": "execute_result"
    }
   ],
   "source": [
    "y.value_counts()\n"
   ]
  },
  {
   "cell_type": "markdown",
   "id": "6b0d8528",
   "metadata": {},
   "source": [
    "Our dataset is extremely unbalanced , so we'll take that into consideration and pass a scale_pos_weight parameter to xgboost<br>\n",
    "scale_pos_weight = sqrt(count(negative examples)/count(Positive examples))<br>\n",
    "we could also use SMOTE technique."
   ]
  },
  {
   "cell_type": "code",
   "execution_count": 1,
   "id": "6a7b4a68",
   "metadata": {},
   "outputs": [
    {
     "ename": "NameError",
     "evalue": "name 'pd' is not defined",
     "output_type": "error",
     "traceback": [
      "\u001b[1;31m---------------------------------------------------------------------------\u001b[0m",
      "\u001b[1;31mNameError\u001b[0m                                 Traceback (most recent call last)",
      "\u001b[1;32m<ipython-input-1-7e34432a866f>\u001b[0m in \u001b[0;36m<module>\u001b[1;34m\u001b[0m\n\u001b[0;32m      7\u001b[0m \u001b[1;33m\u001b[0m\u001b[0m\n\u001b[0;32m      8\u001b[0m def train_xgb_crossvalidated(\n\u001b[1;32m----> 9\u001b[1;33m         \u001b[0mX_train\u001b[0m\u001b[1;33m:\u001b[0m \u001b[0mpd\u001b[0m\u001b[1;33m.\u001b[0m\u001b[0mDataFrame\u001b[0m\u001b[1;33m,\u001b[0m \u001b[0my_train\u001b[0m\u001b[1;33m:\u001b[0m\u001b[0mpd\u001b[0m\u001b[1;33m.\u001b[0m\u001b[0mDataFrame\u001b[0m\u001b[1;33m,\u001b[0m \u001b[0mparameters\u001b[0m\u001b[1;33m:\u001b[0m \u001b[0mdict\u001b[0m\u001b[1;33m\u001b[0m\u001b[1;33m\u001b[0m\u001b[0m\n\u001b[0m\u001b[0;32m     10\u001b[0m ) -> XGBClassifier:\n\u001b[0;32m     11\u001b[0m \u001b[1;33m\u001b[0m\u001b[0m\n",
      "\u001b[1;31mNameError\u001b[0m: name 'pd' is not defined"
     ]
    }
   ],
   "source": [
    "from scipy import stats\n",
    "from sklearn.model_selection import RandomizedSearchCV, KFold\n",
    "\n",
    "from xgboost import XGBClassifier\n",
    "from sklearn.metrics import accuracy_score\n",
    "\n",
    "\n",
    "def train_xgb_crossvalidated(\n",
    "        X_train: pd.DataFrame, y_train:pd.DataFrame, parameters: dict\n",
    ") -> XGBClassifier:\n",
    "\n",
    "    param_dist = {'n_estimators': stats.randint(1, 100),\n",
    "                  'learning_rate': stats.uniform(0.01, 0.6),\n",
    "                  }\n",
    "    kfold = KFold(n_splits=int(parameters['k']),\n",
    "                  shuffle=parameters['k_shuffle'],\n",
    "                  random_state=int(parameters['random_state']))\n",
    "    xgbmodel = XGBClassifier( use_label_encoder=False,scale_pos_weight=parameters['scale_pos_weight'])\n",
    "   \n",
    "    xgb_clf = RandomizedSearchCV(xgbmodel, param_distributions=param_dist,\n",
    "                                 n_iter=int(parameters['n_iter']), scoring=parameters['scoring'],\n",
    "                                 error_score=parameters['error_score'], verbose=int(parameters['verbose']),\n",
    "                                 n_jobs=int(parameters['n_jobs'],), cv=kfold, \n",
    "                                 random_state=int(parameters['random_state']))\n",
    "    xgb_clf.fit(X_train, y_train.values.ravel())\n",
    "    return xgb_clf"
   ]
  },
  {
   "cell_type": "code",
   "execution_count": null,
   "id": "38292ceb",
   "metadata": {},
   "outputs": [],
   "source": [
    "import math\n",
    "params={'k':5,'k_shuffle':True,'random_state':42,'subsample':0.5,'n_iter':10, 'scoring' : 'roc_auc', \n",
    "                         'error_score' : 0,'verbose' : 3 , 'n_jobs':3, 'scale_pos_weight' : math.sqrt(4520/480)\n",
    "\n",
    "}\n",
    "xgb= train_xgb_crossvalidated(trainx,trainy,params)"
   ]
  },
  {
   "cell_type": "code",
   "execution_count": 33,
   "id": "0d68ee35",
   "metadata": {},
   "outputs": [
    {
     "name": "stdout",
     "output_type": "stream",
     "text": [
      "The accuracy for XGBoost Classifier is: 0.961\n"
     ]
    },
    {
     "name": "stderr",
     "output_type": "stream",
     "text": [
      "C:\\Users\\medsa\\Anaconda3\\envs\\zindi\\lib\\site-packages\\xgboost\\data.py:112: UserWarning: Use subset (sliced data) of np.ndarray is not recommended because it will generate extra copies and increase memory consumption\n",
      "  warnings.warn(\n"
     ]
    },
    {
     "name": "stdout",
     "output_type": "stream",
     "text": [
      "              precision    recall  f1-score   support\n",
      "\n",
      "           0       0.98      0.98      0.98      1824\n",
      "           1       0.79      0.76      0.77       176\n",
      "\n",
      "    accuracy                           0.96      2000\n",
      "   macro avg       0.88      0.87      0.88      2000\n",
      "weighted avg       0.96      0.96      0.96      2000\n",
      "\n"
     ]
    },
    {
     "data": {
      "image/png": "[encoded data removed]",
      "text/plain": [
       "<Figure size 432x288 with 1 Axes>"
      ]
     },
     "metadata": {
      "needs_background": "light"
     },
     "output_type": "display_data"
    }
   ],
   "source": [
    "y_pred_xgb_clf = xgb.predict(testx)\n",
    "results(y_pred_xgb_clf, testy,\"XGBoost Classifier\")"
   ]
  },
  {
   "cell_type": "markdown",
   "id": "de18534b",
   "metadata": {},
   "source": [
    "**interpretation :**<br>\n",
    "Performed 5 folds randomly and searched for the best parameters.\n",
    "we could see that othe scale_pos_weight has improved our model significantly."
   ]
  },
  {
   "cell_type": "markdown",
   "id": "a0e9eeae",
   "metadata": {},
   "source": [
    "### Question 14: Why ensemble methods are used for classification. How are they used?"
   ]
  },
  {
   "cell_type": "markdown",
   "id": "4969b161",
   "metadata": {},
   "source": [
    "**why:**<br>\n",
    "Robustness: reduce variance of predictions which improves the accuracy.<br>\n",
    "**how:**<br>\n",
    "Fitting the model several times on the training datasets and combining the predictions and then using the mode for classification. each model trains on a different composition of the training set\n",
    "<br>How bagging work:<br>\n",
    "*Bootstrapping:* <br>\n",
    "Bagging leverages a bootstrapping sampling technique to create diverse samples. <br>\n",
    "*Parallel training:*<br> These bootstrap samples are then trained independently and in parallel with each other using weak or base learners.<br>\n",
    "*Aggregation:* Finally, an average or a majority of the predictions are taken to compute a more accurate estimate. \n",
    "For classification problems, the class with the highest majority of votes is accepted; this is known as hard voting or majority voting."
   ]
  },
  {
   "cell_type": "markdown",
   "id": "e285090d",
   "metadata": {},
   "source": [
    "### Question 15: How could you consider the costs of prediction errors into account when training your machine learning model?"
   ]
  },
  {
   "cell_type": "markdown",
   "id": "82640c11",
   "metadata": {},
   "source": [
    "We could use boosting method.<br>\n",
    "Step 1:  The base learner takes all the distributions and assign equal weight or attention to each observation.\n",
    "<br>\n",
    "Step 2: If there is any prediction error caused by first base learning algorithm, then we pay higher attention to observations having prediction error. Then, we apply the next base learning algorithm.\n",
    "<br>\n",
    "Step 3: Iterate Step 2 till the limit of base learning algorithm is reached or higher accuracy is achieved."
   ]
  }
 ],
 "metadata": {
  "kernelspec": {
   "display_name": "Python 3",
   "language": "python",
   "name": "python3"
  },
  "language_info": {
   "codemirror_mode": {
    "name": "ipython",
    "version": 3
   },
   "file_extension": ".py",
   "mimetype": "text/x-python",
   "name": "python",
   "nbconvert_exporter": "python",
   "pygments_lexer": "ipython3",
   "version": "3.8.8"
  },
  "latex_envs": {
   "LaTeX_envs_menu_present": true,
   "autoclose": false,
   "autocomplete": true,
   "bibliofile": "biblio.bib",
   "cite_by": "apalike",
   "current_citInitial": 1,
   "eqLabelWithNumbers": true,
   "eqNumInitial": 1,
   "hotkeys": {
    "equation": "Ctrl-E",
    "itemize": "Ctrl-I"
   },
   "labels_anchors": false,
   "latex_user_defs": false,
   "report_style_numbering": false,
   "user_envs_cfg": false
  }
 },
 "nbformat": 4,
 "nbformat_minor": 5
}
